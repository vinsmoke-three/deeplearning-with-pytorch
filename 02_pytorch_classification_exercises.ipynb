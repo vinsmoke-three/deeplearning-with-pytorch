{
  "cells": [
    {
      "cell_type": "markdown",
      "metadata": {
        "id": "ZKJFt7YxH8yl"
      },
      "source": [
        "# 02. PyTorch Classification Exercises\n",
        "\n",
        "The following is a template for 02. PyTorch Classification exercises.\n",
        "\n",
        "It's only starter code and it's your job to fill in the blanks.\n",
        "\n",
        "Because of the flexibility of PyTorch, there may be more than one way to answer the question.\n",
        "\n",
        "Don't worry about trying to be *right* just try writing code that suffices the question.\n"
      ]
    },
    {
      "cell_type": "code",
      "execution_count": null,
      "metadata": {
        "id": "CSrUPgapO0tf"
      },
      "outputs": [],
      "source": [
        "# Import torch\n",
        "import torch\n",
        "\n",
        "# Setup device agnostic code\n",
        "device = \"mps\" if torch.mps.is_available else \"cpu\"\n",
        "\n",
        "# Setup random seed\n",
        "RANDOM_SEED = 42"
      ]
    },
    {
      "cell_type": "markdown",
      "metadata": {
        "id": "pH7jIZ2SPFee"
      },
      "source": [
        "## 1. Make a binary classification dataset with Scikit-Learn's [`make_moons()`](https://scikit-learn.org/stable/modules/generated/sklearn.datasets.make_moons.html) function.\n",
        "  * For consistency, the dataset should have 1000 samples and a `random_state=42`.\n",
        "  * Turn the data into PyTorch tensors. \n",
        "  * Split the data into training and test sets using `train_test_split` with 80% training and 20% testing."
      ]
    },
    {
      "cell_type": "code",
      "execution_count": null,
      "metadata": {
        "id": "5t4VhPV1PX1X"
      },
      "outputs": [],
      "source": [
        "# Create a dataset with Scikit-Learn's make_moons()\n",
        "from sklearn.datasets import make_moons\n",
        "\n",
        "X, y = make_moons(n_samples=1000, noise=0.03, random_state=RANDOM_SEED)\n",
        "print(X[:1])"
      ]
    },
    {
      "cell_type": "code",
      "execution_count": null,
      "metadata": {
        "id": "SUeHZ3-3P9C7"
      },
      "outputs": [],
      "source": [
        "# Turn data into a DataFrame\n",
        "import pandas as pd\n",
        "moons = pd.DataFrame({\"X_0\":X[:,0], \"X_1\":X[:,1], \"label\":y})\n",
        "print(moons.head(10))\n"
      ]
    },
    {
      "cell_type": "code",
      "execution_count": null,
      "metadata": {
        "id": "owrkPSFvQPFI"
      },
      "outputs": [],
      "source": [
        "# Visualize the data on a scatter plot\n",
        "import matplotlib.pyplot as plt\n",
        "plt.scatter(x=X[:,0],\n",
        "            y=X[:,1],\n",
        "            c=y,\n",
        "            cmap=plt.cm.RdYlBu)\n"
      ]
    },
    {
      "cell_type": "code",
      "execution_count": null,
      "metadata": {
        "id": "bDhyHn9fR4dq"
      },
      "outputs": [],
      "source": [
        "# Turn data into tensors of dtype float\n",
        "print(type(X))\n",
        "X = torch.from_numpy(X).type(torch.float)\n",
        "y = torch.from_numpy(y).type(torch.float)\n",
        "\n",
        "# Split the data into train and test sets (80% train, 20% test)\n",
        "from sklearn.model_selection import train_test_split\n",
        "\n",
        "X_train, X_test, y_train, y_test = train_test_split(X,\n",
        "                                                    y,\n",
        "                                                    test_size=0.2,\n",
        "                                                    random_state=RANDOM_SEED)\n",
        "\n",
        "print(X_train.shape,y_train.shape)"
      ]
    },
    {
      "cell_type": "markdown",
      "metadata": {
        "id": "cMIjxZdzQfPz"
      },
      "source": [
        "## 2. Build a model by subclassing `nn.Module` that incorporates non-linear activation functions and is capable of fitting the data you created in 1.\n",
        "  * Feel free to use any combination of PyTorch layers (linear and non-linear) you want."
      ]
    },
    {
      "cell_type": "code",
      "execution_count": null,
      "metadata": {
        "id": "hwtyvm34Ri6Q"
      },
      "outputs": [],
      "source": [
        "import torch\n",
        "from torch import nn\n",
        "\n",
        "# Inherit from nn.Module to make a model capable of fitting the mooon data\n",
        "class MoonModelV0(nn.Module):\n",
        "    ## Your code here ##\n",
        "    def __init__(self, *args, **kwargs):\n",
        "        super().__init__(*args, **kwargs)\n",
        "        self.layer_1 = nn.Linear(in_features=2, out_features=10)\n",
        "        self.layer_2 = nn.Linear(in_features=10, out_features=10)\n",
        "        self.relu = nn.ReLU()\n",
        "        self.layer_3 = nn.Linear(in_features=10, out_features=1)\n",
        "    def forward(self, x):\n",
        "        ## Your code here ##\n",
        "        return self.layer_3(self.relu(self.layer_2(self.layer_1(x))))\n",
        "\n",
        "# Instantiate the model\n",
        "## Your code here ##\n",
        "model_0 = MoonModelV0().to(device)\n",
        "model_0"
      ]
    },
    {
      "cell_type": "markdown",
      "metadata": {
        "id": "DSj97RwyVeFE"
      },
      "source": [
        "## 3. Setup a binary classification compatible loss function and optimizer to use when training the model built in 2."
      ]
    },
    {
      "cell_type": "code",
      "execution_count": null,
      "metadata": {
        "id": "whSGw5qgVvxU"
      },
      "outputs": [],
      "source": [
        "# Setup loss function\n",
        "loss_fn = nn.BCEWithLogitsLoss()\n",
        "# Setup optimizer to optimize model's parameters\n",
        "optimizer = torch.optim.SGD(params=model_0.parameters(),lr=0.1)"
      ]
    },
    {
      "cell_type": "markdown",
      "metadata": {
        "id": "nvk4PfNTWUAt"
      },
      "source": [
        "## 4. Create a training and testing loop to fit the model you created in 2 to the data you created in 1.\n",
        "  * Do a forward pass of the model to see what's coming out in the form of logits, prediction probabilities and labels.\n",
        "  * To measure model accuray, you can create your own accuracy function or use the accuracy function in [TorchMetrics](https://torchmetrics.readthedocs.io/en/latest/).\n",
        "  * Train the model for long enough for it to reach over 96% accuracy.\n",
        "  * The training loop should output progress every 10 epochs of the model's training and test set loss and accuracy."
      ]
    },
    {
      "cell_type": "code",
      "execution_count": null,
      "metadata": {
        "colab": {
          "base_uri": "https://localhost:8080/"
        },
        "id": "AgnFdlamd2-D",
        "outputId": "627d8c33-071e-4925-f18b-5d5ba6126729"
      },
      "outputs": [],
      "source": [
        "# What's coming out of our model?\n",
        "\n",
        "# logits (raw outputs of model)\n",
        "print(\"Logits:\")\n",
        "## Your code here ##\n",
        "logits = model_0(X_train.to(device))\n",
        "# Prediction probabilities\n",
        "print(\"Pred probs:\")\n",
        "## Your code here ##\n",
        "pred_probs = torch.sigmoid(logits)\n",
        "# Prediction labels\n",
        "print(\"Pred labels:\")\n",
        "## Your code here ##\n",
        "pred_labels = torch.round(pred_probs)\n",
        "print(pred_labels[:10])"
      ]
    },
    {
      "cell_type": "code",
      "execution_count": null,
      "metadata": {
        "id": "rUSDNHB4euoJ"
      },
      "outputs": [],
      "source": [
        "# Let's calculuate the accuracy using accuracy from TorchMetrics\n",
        "# !pip -q install torchmetrics # Colab doesn't come with torchmetrics\n",
        "from torchmetrics import Accuracy\n",
        "\n",
        "## TODO: Uncomment this code to use the Accuracy function\n",
        "acc_fn = Accuracy(task=\"multiclass\", num_classes=2).to(device) # send accuracy function to device\n",
        "acc_fn"
      ]
    },
    {
      "cell_type": "code",
      "execution_count": null,
      "metadata": {
        "id": "SHBY3h7XXnxt"
      },
      "outputs": [],
      "source": [
        "## TODO: Uncomment this to set the seed\n",
        "torch.manual_seed(RANDOM_SEED)\n",
        "torch.mps.manual_seed(RANDOM_SEED)\n",
        "\n",
        "# Setup epochs\n",
        "epochs = 1000\n",
        "\n",
        "# Send data to the device\n",
        "X_train, y_train = X_train.to(device), y_train.to(device)\n",
        "X_test, y_test = X_test.to(device), y_test.to(device)\n",
        "\n",
        "# Loop through the data\n",
        "for epoch in range(epochs):\n",
        "    ### Training\n",
        "    model_0.train()\n",
        "\n",
        "    # 1. Forward pass (logits output)\n",
        "    y_logits = model_0(X_train).squeeze()\n",
        "    # Turn logits into prediction probabilities\n",
        "    y_pred_prob = torch.sigmoid(y_logits)\n",
        "\n",
        "    # Turn prediction probabilities into prediction labels\n",
        "    y_pred = torch.round(y_pred_prob)\n",
        "\n",
        "    # 2. Calculaute the loss\n",
        "    loss = loss_fn(y_logits, y_train) # loss = compare model raw outputs to desired model outputs\n",
        "\n",
        "    # Calculate the accuracy\n",
        "    acc = acc_fn(y_pred, y_train.int()) # the accuracy function needs to compare pred labels (not logits) with actual labels\n",
        "\n",
        "    # 3. Zero the gradients\n",
        "    optimizer.zero_grad()\n",
        "\n",
        "    # 4. Loss backward (perform backpropagation) - https://brilliant.org/wiki/backpropagation/#:~:text=Backpropagation%2C%20short%20for%20%22backward%20propagation,to%20the%20neural%20network's%20weights.\n",
        "    loss.backward()\n",
        "    # 5. Step the optimizer (gradient descent) - https://towardsdatascience.com/gradient-descent-algorithm-a-deep-dive-cf04e8115f21#:~:text=Gradient%20descent%20(GD)%20is%20an,e.g.%20in%20a%20linear%20regression) \n",
        "    optimizer.step()\n",
        "\n",
        "    ### Testing\n",
        "    model_0.eval() \n",
        "    with torch.inference_mode():\n",
        "      # 1. Forward pass (to get the logits)\n",
        "      test_logits = model_0(X_test).squeeze()\n",
        "      # Turn the test logits into prediction labels\n",
        "      test_pred_prob = torch.sigmoid(test_logits)\n",
        "      test_pred = torch.round(test_pred_prob)\n",
        "\n",
        "      # 2. Caculate the test loss/acc\n",
        "      test_loss = loss_fn(test_logits, y_test)\n",
        "      test_acc = acc_fn(test_pred, y_test.int())\n",
        "\n",
        "    # Print out what's happening every 100 epochs\n",
        "    if epoch % 100 == 0:\n",
        "       print(f\"epoch: {epoch} | acc: {acc} | loss: {loss} | test_acc: {test_acc} | test_loss: {test_loss}\")"
      ]
    },
    {
      "cell_type": "markdown",
      "metadata": {
        "id": "8Nwihtomj9JO"
      },
      "source": [
        "## 5. Make predictions with your trained model and plot them using the `plot_decision_boundary()` function created in this notebook."
      ]
    },
    {
      "cell_type": "code",
      "execution_count": null,
      "metadata": {
        "id": "0YRzatb8a1P2"
      },
      "outputs": [],
      "source": [
        "# Plot the model predictions\n",
        "import numpy as np\n",
        "\n",
        "def plot_decision_boundary(model, X, y):\n",
        "  \n",
        "    # Put everything to CPU (works better with NumPy + Matplotlib)\n",
        "    model.to(\"cpu\")\n",
        "    X, y = X.to(\"cpu\"), y.to(\"cpu\")\n",
        "\n",
        "    # Source - https://madewithml.com/courses/foundations/neural-networks/ \n",
        "    # (with modifications)\n",
        "    x_min, x_max = X[:, 0].min() - 0.1, X[:, 0].max() + 0.1\n",
        "    y_min, y_max = X[:, 1].min() - 0.1, X[:, 1].max() + 0.1\n",
        "    xx, yy = np.meshgrid(np.linspace(x_min, x_max, 101), \n",
        "                         np.linspace(y_min, y_max, 101))\n",
        "\n",
        "    # Make features\n",
        "    X_to_pred_on = torch.from_numpy(np.column_stack((xx.ravel(), yy.ravel()))).float()\n",
        "\n",
        "    # Make predictions\n",
        "    model.eval()\n",
        "    with torch.inference_mode():\n",
        "        y_logits = model(X_to_pred_on)\n",
        "\n",
        "    # Test for multi-class or binary and adjust logits to prediction labels\n",
        "    if len(torch.unique(y)) > 2:\n",
        "        y_pred = torch.softmax(y_logits, dim=1).argmax(dim=1) # mutli-class\n",
        "    else: \n",
        "        y_pred = torch.round(torch.sigmoid(y_logits)) # binary\n",
        "    \n",
        "    # Reshape preds and plot\n",
        "    y_pred = y_pred.reshape(xx.shape).detach().numpy()\n",
        "    plt.contourf(xx, yy, y_pred, cmap=plt.cm.RdYlBu, alpha=0.7)\n",
        "    plt.scatter(X[:, 0], X[:, 1], c=y, s=40, cmap=plt.cm.RdYlBu)\n",
        "    plt.xlim(xx.min(), xx.max())\n",
        "    plt.ylim(yy.min(), yy.max())"
      ]
    },
    {
      "cell_type": "code",
      "execution_count": null,
      "metadata": {
        "id": "PMrcpyirig1d"
      },
      "outputs": [],
      "source": [
        "# Plot decision boundaries for training and test sets\n",
        "plot_decision_boundary(model=model_0, X=X_train, y=y_train)"
      ]
    },
    {
      "cell_type": "markdown",
      "metadata": {
        "id": "EtMYBvtciiAU"
      },
      "source": [
        "## 6. Replicate the Tanh (hyperbolic tangent) activation function in pure PyTorch.\n",
        "  * Feel free to reference the [ML cheatsheet website](https://ml-cheatsheet.readthedocs.io/en/latest/activation_functions.html#tanh) for the formula."
      ]
    },
    {
      "cell_type": "code",
      "execution_count": null,
      "metadata": {
        "id": "BlXaWC5TkEUE"
      },
      "outputs": [],
      "source": [
        "# Create a straight line tensor\n",
        "tensor_A = torch.range(start=-100,end=100,step=1)\n",
        "plt.plot(tensor_A)"
      ]
    },
    {
      "cell_type": "code",
      "execution_count": null,
      "metadata": {
        "id": "vZPCcQmIkZjO"
      },
      "outputs": [],
      "source": [
        "# Test torch.tanh() on the tensor and plot it\n",
        "plt.plot(torch.tanh(tensor_A))"
      ]
    },
    {
      "cell_type": "markdown",
      "metadata": {
        "id": "Lbt1bNcWk5G9"
      },
      "source": [
        "## 7. Create a multi-class dataset using the [spirals data creation function from CS231n](https://cs231n.github.io/neural-networks-case-study/) (see below for the code).\n",
        "  * Split the data into training and test sets (80% train, 20% test) as well as turn it into PyTorch tensors.\n",
        "  * Construct a model capable of fitting the data (you may need a combination of linear and non-linear layers).\n",
        "  * Build a loss function and optimizer capable of handling multi-class data (optional extension: use the Adam optimizer instead of SGD, you may have to experiment with different values of the learning rate to get it working).\n",
        "  * Make a training and testing loop for the multi-class data and train a model on it to reach over 95% testing accuracy (you can use any accuracy measuring function here that you like) - 1000 epochs should be plenty.\n",
        "  * Plot the decision boundaries on the spirals dataset from your model predictions, the `plot_decision_boundary()` function should work for this dataset too."
      ]
    },
    {
      "cell_type": "code",
      "execution_count": 301,
      "metadata": {
        "colab": {
          "base_uri": "https://localhost:8080/",
          "height": 265
        },
        "id": "tU-UNZsKlJls",
        "outputId": "8b7b745a-070d-4ecb-c639-c4ee4d8eae06"
      },
      "outputs": [
        {
          "data": {
            "text/plain": [
              "numpy.ndarray"
            ]
          },
          "execution_count": 301,
          "metadata": {},
          "output_type": "execute_result"
        }
      ],
      "source": [
        "# Code for creating a spiral dataset from CS231n\n",
        "import numpy as np\n",
        "import matplotlib.pyplot as plt\n",
        "RANDOM_SEED = 42\n",
        "np.random.seed(RANDOM_SEED)\n",
        "N = 100 # number of points per class\n",
        "D = 2 # dimensionality\n",
        "K = 3 # number of classes\n",
        "X = np.zeros((N*K,D)) # data matrix (each row = single example)\n",
        "y = np.zeros(N*K, dtype='uint8') # class labels\n",
        "for j in range(K):\n",
        "  ix = range(N*j,N*(j+1))\n",
        "  r = np.linspace(0.0,1,N) # radius\n",
        "  t = np.linspace(j*4,(j+1)*4,N) + np.random.randn(N)*0.2 # theta\n",
        "  X[ix] = np.c_[r*np.sin(t), r*np.cos(t)]\n",
        "  y[ix] = j\n",
        "\n",
        "type(X)\n",
        "# lets visualize the data\n",
        "# plt.scatter(X[:, 0], X[:, 1], c=y, s=40, cmap=plt.cm.RdYlBu)\n",
        "# plt.show()"
      ]
    },
    {
      "cell_type": "code",
      "execution_count": 302,
      "metadata": {
        "id": "OWVrmkEyl0VP"
      },
      "outputs": [],
      "source": [
        "# Turn data into tensors\n",
        "import torch\n",
        "X = torch.from_numpy(X).type(torch.float) # features as float32\n",
        "y = torch.from_numpy(y).type(torch.LongTensor) # labels need to be of type long\n",
        "\n"
      ]
    },
    {
      "cell_type": "code",
      "execution_count": 303,
      "metadata": {},
      "outputs": [
        {
          "name": "stdout",
          "output_type": "stream",
          "text": [
            "tensor([[0.0000, 0.0000],\n",
            "        [0.0001, 0.0101],\n",
            "        [0.0042, 0.0198],\n",
            "        [0.0125, 0.0276],\n",
            "        [0.0046, 0.0401],\n",
            "        [0.0078, 0.0499],\n",
            "        [0.0321, 0.0514],\n",
            "        [0.0299, 0.0641],\n",
            "        [0.0184, 0.0787],\n",
            "        [0.0413, 0.0810]])\n",
            "torch.Size([240, 2]) torch.Size([60, 2])\n"
          ]
        }
      ],
      "source": [
        "print(X[:10])\n",
        "\n",
        "# Create train and test splits\n",
        "from sklearn.model_selection import train_test_split\n",
        "\n",
        "X_train, X_test, y_train, y_test = train_test_split(X, y, test_size=0.2, random_state=RANDOM_SEED)\n",
        "\n",
        "print(X_train.shape,X_test.shape)"
      ]
    },
    {
      "cell_type": "code",
      "execution_count": 304,
      "metadata": {
        "id": "a-v-7f0op0tG"
      },
      "outputs": [
        {
          "data": {
            "text/plain": [
              "MulticlassAccuracy()"
            ]
          },
          "execution_count": 304,
          "metadata": {},
          "output_type": "execute_result"
        }
      ],
      "source": [
        "# Let's calculuate the accuracy for when we fit our model\n",
        "#!pip -q install torchmetrics # colab doesn't come with torchmetrics\n",
        "from torchmetrics import Accuracy\n",
        "\n",
        "## TODO: uncomment the two lines below to send the accuracy function to the device\n",
        "acc_fn = Accuracy(task=\"multiclass\", num_classes=4).to(device)\n",
        "acc_fn"
      ]
    },
    {
      "cell_type": "code",
      "execution_count": 305,
      "metadata": {
        "id": "DB3u3ldumapf"
      },
      "outputs": [
        {
          "data": {
            "text/plain": [
              "MultiClassModel(\n",
              "  (layer1): Linear(in_features=2, out_features=10, bias=True)\n",
              "  (layer2): Linear(in_features=10, out_features=10, bias=True)\n",
              "  (relu): ReLU()\n",
              "  (layer3): Linear(in_features=10, out_features=3, bias=True)\n",
              ")"
            ]
          },
          "execution_count": 305,
          "metadata": {},
          "output_type": "execute_result"
        }
      ],
      "source": [
        "# Prepare device agnostic code\n",
        "# device = \"cuda\" if torch.cuda.is_available() else \"cpu\"\n",
        "\n",
        "# Create model by subclassing nn.Module\n",
        "class MultiClassModel(nn.Module):\n",
        "    def __init__(self, input_features, output_features, hidden_units=10):\n",
        "        super().__init__()\n",
        "        self.layer1 = nn.Linear(in_features=input_features, out_features=hidden_units)\n",
        "        self.layer2 = nn.Linear(in_features=hidden_units, out_features=hidden_units)\n",
        "        self.relu = nn.ReLU()\n",
        "        self.layer3 = nn.Linear(in_features=hidden_units, out_features=output_features)\n",
        "    \n",
        "    def forward(self, x):\n",
        "        return self.layer3(self.relu(self.layer2(self.layer1(x))))\n",
        "\n",
        "\n",
        "# Instantiate model and send it to device\n",
        "model_1 = MultiClassModel(input_features=2,\n",
        "                          output_features=3,\n",
        "                          hidden_units=10).to(device)\n",
        "model_1"
      ]
    },
    {
      "cell_type": "code",
      "execution_count": 306,
      "metadata": {
        "colab": {
          "base_uri": "https://localhost:8080/"
        },
        "id": "QE7XWSSunMTS",
        "outputId": "00b31909-87c9-41e3-9dbb-fb4c4bd3aabd"
      },
      "outputs": [
        {
          "name": "stdout",
          "output_type": "stream",
          "text": [
            "Logits:\n",
            "torch.Size([240, 3]) tensor([[-0.2385, -0.1313,  0.0918],\n",
            "        [-0.2638, -0.1694,  0.1084],\n",
            "        [-0.2058, -0.0873,  0.1136],\n",
            "        [-0.1854, -0.0996,  0.2367],\n",
            "        [-0.1531, -0.0458,  0.2163],\n",
            "        [-0.1962, -0.0868,  0.1530],\n",
            "        [-0.1966, -0.0828,  0.1399],\n",
            "        [-0.1637, -0.0670,  0.1125],\n",
            "        [-0.2403, -0.1494,  0.1495],\n",
            "        [-0.1845, -0.0988,  0.2385]], device='mps:0', grad_fn=<SliceBackward0>)\n",
            "Pred probs:\n",
            "torch.Size([240, 3]) tensor([[0.2854, 0.3176, 0.3970],\n",
            "        [0.2817, 0.3096, 0.4087],\n",
            "        [0.2855, 0.3215, 0.3930],\n",
            "        [0.2766, 0.3014, 0.4219],\n",
            "        [0.2809, 0.3127, 0.4064],\n",
            "        [0.2830, 0.3157, 0.4013],\n",
            "        [0.2840, 0.3183, 0.3977],\n",
            "        [0.2924, 0.3221, 0.3855],\n",
            "        [0.2800, 0.3066, 0.4134],\n",
            "        [0.2766, 0.3013, 0.4222]], device='mps:0', grad_fn=<SliceBackward0>)\n",
            "Pred labels:\n",
            "tensor([2, 2, 2, 2, 2, 2, 2, 2, 2, 2], device='mps:0')\n"
          ]
        }
      ],
      "source": [
        "# Setup data to be device agnostic\n",
        "X_train, y_train = X_train.to(device), y_train.to(device)\n",
        "X_test, y_test = X_test.to(device), y_test.to(device)\n",
        "\n",
        "# Print out first 10 untrained model outputs (forward pass)\n",
        "print(\"Logits:\")\n",
        "## Your code here ##\n",
        "logits = model_1(X_train)\n",
        "print(logits.shape,logits[:10])\n",
        "print(\"Pred probs:\")\n",
        "## Your code here ##\n",
        "pred_probs = torch.softmax(logits, dim=1)\n",
        "print(pred_probs.shape, pred_probs[:10])\n",
        "print(\"Pred labels:\")\n",
        "## Your code here ##\n",
        "pred_labels = torch.argmax(pred_probs, dim=1)\n",
        "print(pred_labels[:10])"
      ]
    },
    {
      "cell_type": "code",
      "execution_count": 307,
      "metadata": {
        "id": "54EqLRKLo0AW"
      },
      "outputs": [],
      "source": [
        "# Setup loss function and optimizer\n",
        "loss_fn = nn.CrossEntropyLoss()\n",
        "optimizer = torch.optim.Adam(params=model_1.parameters(),lr=0.01)"
      ]
    },
    {
      "cell_type": "code",
      "execution_count": null,
      "metadata": {},
      "outputs": [],
      "source": [
        "y_train.shape"
      ]
    },
    {
      "cell_type": "code",
      "execution_count": 310,
      "metadata": {
        "id": "vIlExkUHnmxi"
      },
      "outputs": [
        {
          "name": "stdout",
          "output_type": "stream",
          "text": [
            "epoch: 0 | loss : 0.019559724256396294 | acc :0.9916666746139526 | test_loss :0.0004572576144710183 | test_acc : 1.0\n",
            "epoch: 100 | loss : 0.018669387325644493 | acc :0.9916666746139526 | test_loss :0.0003942288167309016 | test_acc : 1.0\n",
            "epoch: 200 | loss : 0.018190205097198486 | acc :0.9916666746139526 | test_loss :0.0003529095265548676 | test_acc : 1.0\n",
            "epoch: 300 | loss : 0.017908096313476562 | acc :0.9916666746139526 | test_loss :0.0003118912281934172 | test_acc : 1.0\n",
            "epoch: 400 | loss : 0.018375137820839882 | acc :0.9916666746139526 | test_loss :0.0002564595779404044 | test_acc : 1.0\n",
            "epoch: 500 | loss : 0.017838753759860992 | acc :0.9916666746139526 | test_loss :0.00030144586344249547 | test_acc : 1.0\n",
            "epoch: 600 | loss : 0.01741608791053295 | acc :0.9916666746139526 | test_loss :0.0002222969342255965 | test_acc : 1.0\n",
            "epoch: 700 | loss : 0.017096642404794693 | acc :0.9916666746139526 | test_loss :0.00023405245156027377 | test_acc : 1.0\n",
            "epoch: 800 | loss : 0.01704375259578228 | acc :0.9916666746139526 | test_loss :0.00019293490913696587 | test_acc : 1.0\n",
            "epoch: 900 | loss : 0.017144162207841873 | acc :0.9916666746139526 | test_loss :0.00018780380196403712 | test_acc : 1.0\n"
          ]
        }
      ],
      "source": [
        "# Build a training loop for the model\n",
        "X_train, y_train = X_train.to(device), y_train.to(device)\n",
        "X_test, y_test = X_test.to(device), y_test.to(device)\n",
        "\n",
        "torch.manual_seed(RANDOM_SEED)\n",
        "torch.mps.manual_seed(RANDOM_SEED)\n",
        "\n",
        "epochs = 1000\n",
        "# Loop over data\n",
        "for epoch in range(epochs):\n",
        "\n",
        "  ## Training\n",
        "  model_1.train()\n",
        "  # 1. Forward pass\n",
        "  y_logits = model_1(X_train)\n",
        "  y_pred = torch.softmax(y_logits, dim=1).argmax(dim=1)\n",
        "  # 2. Calculate the loss\n",
        "  loss = loss_fn(y_logits, y_train)\n",
        "  acc = acc_fn(y_pred, y_train)\n",
        "  \n",
        "  # 3. Optimizer zero grad\n",
        "  optimizer.zero_grad()\n",
        "\n",
        "  # 4. Loss backward\n",
        "  loss.backward()\n",
        "\n",
        "  # 5. Optimizer step\n",
        "  optimizer.step()\n",
        "\n",
        "  ## Testing\n",
        "  model_1.eval()\n",
        "  with torch.inference_mode():\n",
        "    # 1. Forward pass\n",
        "    test_logits = model_1(X_test)\n",
        "    test_pred = torch.softmax(test_logits, dim=1).argmax(dim=1)\n",
        "    # 2. Caculate loss and acc\n",
        "    test_loss = loss_fn(test_logits, y_test)\n",
        "    test_acc = acc_fn(test_pred, y_test)\n",
        "    \n",
        "  # Print out what's happening every 100 epochs\n",
        "  if epoch % 100 == 0:\n",
        "    print(f\"epoch: {epoch} | loss : {loss} | acc :{acc} | test_loss :{test_loss} | test_acc : {test_acc}\")\n",
        "  "
      ]
    },
    {
      "cell_type": "code",
      "execution_count": 311,
      "metadata": {
        "id": "JrwVRbaE0keT"
      },
      "outputs": [
        {
          "data": {
            "image/png": "[encoded data removed]",
            "text/plain": [
              "<Figure size 640x480 with 1 Axes>"
            ]
          },
          "metadata": {},
          "output_type": "display_data"
        }
      ],
      "source": [
        "# Plot decision boundaries for training and test sets\n",
        "plot_decision_boundary(model_1,X_train,y_train)\n",
        "plot_decision_boundary(model_1,X_test,y_test)"
      ]
    }
  ],
  "metadata": {
    "accelerator": "GPU",
    "colab": {
      "authorship_tag": "ABX9TyNloicnciRwCXd2bJo6F2iS",
      "collapsed_sections": [],
      "include_colab_link": true,
      "name": "02_pytorch_classification_exercises.ipynb",
      "provenance": []
    },
    "kernelspec": {
      "display_name": "deep-learning",
      "language": "python",
      "name": "python3"
    },
    "language_info": {
      "codemirror_mode": {
        "name": "ipython",
        "version": 3
      },
      "file_extension": ".py",
      "mimetype": "text/x-python",
      "name": "python",
      "nbconvert_exporter": "python",
      "pygments_lexer": "ipython3",
      "version": "3.12.8"
    }
  },
  "nbformat": 4,
  "nbformat_minor": 0
}
